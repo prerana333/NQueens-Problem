{
 "cells": [
  {
   "cell_type": "markdown",
   "metadata": {},
   "source": [
    "# Backtracking"
   ]
  },
  {
   "cell_type": "code",
   "execution_count": 5,
   "metadata": {},
   "outputs": [
    {
     "name": "stdout",
     "output_type": "stream",
     "text": [
      "Enter No Of Queens\n",
      "8\n",
      "easy solution = 0\n",
      "[1, 0, 0, 0, 0, 0, 0, 0]\n",
      "[0, 0, 0, 0, 1, 0, 0, 0]\n",
      "[0, 0, 0, 0, 0, 0, 0, 1]\n",
      "[0, 0, 0, 0, 0, 1, 0, 0]\n",
      "[0, 0, 1, 0, 0, 0, 0, 0]\n",
      "[0, 0, 0, 0, 0, 0, 1, 0]\n",
      "[0, 1, 0, 0, 0, 0, 0, 0]\n",
      "[0, 0, 0, 1, 0, 0, 0, 0]\n"
     ]
    }
   ],
   "source": [
    "#Number of queens\n",
    "print (\"Enter No Of Queens\")\n",
    "N = int(input())\n",
    "\n",
    "#here i am creating a board for N it will assign number dynamically .\n",
    "\n",
    "myChessBoard = [[0] * N for _ in range(N)]\n",
    "\n",
    "def is_attacking(i, j):\n",
    "    #here i am checking the row\n",
    "    for k in range(0,N):\n",
    "        if myChessBoard[i][k]==1 or myChessBoard[k][j]==1:\n",
    "            return True\n",
    "    #here i am checking whether there is qween in the diagonal or not\n",
    "    for k in range(0,N):\n",
    "        for l in range(0,N):\n",
    "            if (k+l==i+j) or (k-l==i-j):\n",
    "                if myChessBoard[k][l]==1:\n",
    "                    return True\n",
    "    return False\n",
    "\n",
    "def operation(n):\n",
    "\n",
    "    if n==0:\n",
    "        print(\"easy solution = 0\")\n",
    "        return True\n",
    "    for i in range(0,N):\n",
    "        for j in range(0,N):\n",
    "\n",
    "            if (not(is_attacking(i, j))) and (myChessBoard[i][j] != 1):\n",
    "                myChessBoard[i][j] = 1\n",
    "                #now checking if we can add other here in same arrangement\n",
    "                if operation(n - 1)==True:\n",
    "                    return True\n",
    "                myChessBoard[i][j] = 0\n",
    "\n",
    "    return False\n",
    "\n",
    "operation(N)\n",
    "for i in myChessBoard:\n",
    "    print (i)"
   ]
  },
  {
   "cell_type": "code",
   "execution_count": null,
   "metadata": {},
   "outputs": [],
   "source": []
  }
 ],
 "metadata": {
  "kernelspec": {
   "display_name": "Python 3",
   "language": "python",
   "name": "python3"
  },
  "language_info": {
   "codemirror_mode": {
    "name": "ipython",
    "version": 3
   },
   "file_extension": ".py",
   "mimetype": "text/x-python",
   "name": "python",
   "nbconvert_exporter": "python",
   "pygments_lexer": "ipython3",
   "version": "3.7.3"
  }
 },
 "nbformat": 4,
 "nbformat_minor": 2
}
